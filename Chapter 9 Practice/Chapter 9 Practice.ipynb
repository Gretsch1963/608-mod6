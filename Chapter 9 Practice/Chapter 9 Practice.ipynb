{
 "cells": [
  {
   "cell_type": "code",
   "execution_count": 5,
   "id": "b13a4647",
   "metadata": {},
   "outputs": [],
   "source": [
    "with open('accounts.txt', mode='w') as accounts:\n",
    "    accounts.write('100 Jones 24.98\\n')\n",
    "    accounts.write('200 Doe 345.67\\n')\n",
    "    accounts.write('300 White 0.00\\n')\n",
    "    accounts.write('400 Stone -42.16\\n')\n",
    "    accounts.write('500 Rich 224.62\\n')"
   ]
  },
  {
   "cell_type": "markdown",
   "id": "99496c71",
   "metadata": {},
   "source": [
    "The with statement implicity releases resources when its suite finishes executing."
   ]
  },
  {
   "cell_type": "markdown",
   "id": "6ec4d40e",
   "metadata": {},
   "source": [
    "Its good practice to close resources as soon as the program no longer needs them. "
   ]
  },
  {
   "cell_type": "code",
   "execution_count": 3,
   "id": "aad286e1",
   "metadata": {},
   "outputs": [],
   "source": [
    "with open('grades.txt', mode='w') as grades:\n",
    "    grades.write('1 Red A\\n')\n",
    "    grades.write('2 Green B\\n')\n",
    "    grades.write('3 White A\\n')"
   ]
  },
  {
   "cell_type": "code",
   "execution_count": 6,
   "id": "89b55b00",
   "metadata": {},
   "outputs": [
    {
     "name": "stdout",
     "output_type": "stream",
     "text": [
      "Account   Name         Balance\n",
      "100       Jones          24.98\n",
      "200       Doe           345.67\n",
      "300       White           0.00\n",
      "400       Stone         -42.16\n",
      "500       Rich          224.62\n"
     ]
    }
   ],
   "source": [
    "with open('accounts.txt', mode='r') as accounts:\n",
    "    print(f'{\"Account\":<10}{\"Name\":<10}{\"Balance\":>10}')\n",
    "    for record in accounts:\n",
    "        account, name, balance = record.split()\n",
    "        print(f'{account:<10}{name:<10}{balance:>10}')"
   ]
  },
  {
   "cell_type": "markdown",
   "id": "4634d0f7",
   "metadata": {},
   "source": [
    "A file object's seek method can be used to repositon the file-position pointer. "
   ]
  },
  {
   "cell_type": "markdown",
   "id": "b1f070ae",
   "metadata": {},
   "source": [
    "By default, iterating through a file object with a for statement reads one line at a time from the file and returns it as a string. "
   ]
  },
  {
   "cell_type": "code",
   "execution_count": 7,
   "id": "76f274c1",
   "metadata": {},
   "outputs": [
    {
     "name": "stdout",
     "output_type": "stream",
     "text": [
      "ID  Name   Grade\n",
      "1   Red    A\n",
      "2   Green  B\n",
      "3   White  A\n"
     ]
    }
   ],
   "source": [
    "with open('grades.txt', mode='r') as grades:\n",
    "    print(f'{\"ID\":<4}{\"Name\":<7}{\"Grade\"}')\n",
    "    for record in grades:\n",
    "        student_id, name, grade = record.split()\n",
    "        print(f'{student_id:<4}{name:<7}{grade}')"
   ]
  },
  {
   "cell_type": "code",
   "execution_count": 12,
   "id": "5fa35787",
   "metadata": {},
   "outputs": [],
   "source": [
    "accounts = open('accounts.txt', 'r')"
   ]
  },
  {
   "cell_type": "code",
   "execution_count": 13,
   "id": "f3f91d07",
   "metadata": {},
   "outputs": [],
   "source": [
    "temp_file = open('temp_file.txt', 'w')"
   ]
  },
  {
   "cell_type": "code",
   "execution_count": 14,
   "id": "53b4bfdd",
   "metadata": {},
   "outputs": [],
   "source": [
    "with accounts, temp_file:\n",
    "    for record in accounts:\n",
    "        account, name, balance = record.split()\n",
    "        if account!= '300':\n",
    "            temp_file.write(record)\n",
    "        else:\n",
    "            new_record = ' '.join([account, 'Williams', balance])\n",
    "            temp_file.write(new_record + '\\n')"
   ]
  },
  {
   "cell_type": "code",
   "execution_count": 16,
   "id": "3e223593",
   "metadata": {},
   "outputs": [],
   "source": [
    "import os"
   ]
  },
  {
   "cell_type": "code",
   "execution_count": 17,
   "id": "93ea401b",
   "metadata": {},
   "outputs": [],
   "source": [
    "os.remove('accounts.txt')"
   ]
  },
  {
   "cell_type": "code",
   "execution_count": 19,
   "id": "4de8b9dd",
   "metadata": {
    "scrolled": true
   },
   "outputs": [
    {
     "ename": "FileNotFoundError",
     "evalue": "[Errno 2] No such file or directory: 'temp_file.txt' -> 'accounts.txt'",
     "output_type": "error",
     "traceback": [
      "\u001b[0;31m---------------------------------------------------------------------------\u001b[0m",
      "\u001b[0;31mFileNotFoundError\u001b[0m                         Traceback (most recent call last)",
      "Input \u001b[0;32mIn [19]\u001b[0m, in \u001b[0;36m<cell line: 1>\u001b[0;34m()\u001b[0m\n\u001b[0;32m----> 1\u001b[0m \u001b[43mos\u001b[49m\u001b[38;5;241;43m.\u001b[39;49m\u001b[43mrename\u001b[49m\u001b[43m(\u001b[49m\u001b[38;5;124;43m'\u001b[39;49m\u001b[38;5;124;43mtemp_file.txt\u001b[39;49m\u001b[38;5;124;43m'\u001b[39;49m\u001b[43m,\u001b[49m\u001b[43m \u001b[49m\u001b[38;5;124;43m'\u001b[39;49m\u001b[38;5;124;43maccounts.txt\u001b[39;49m\u001b[38;5;124;43m'\u001b[39;49m\u001b[43m)\u001b[49m\n",
      "\u001b[0;31mFileNotFoundError\u001b[0m: [Errno 2] No such file or directory: 'temp_file.txt' -> 'accounts.txt'"
     ]
    }
   ],
   "source": [
    "os.rename('temp_file.txt', 'accounts.txt')"
   ]
  },
  {
   "cell_type": "markdown",
   "id": "b43405c2",
   "metadata": {},
   "source": [
    "[19] Was re-run - ran fine 1x and then run again which then provided the above error, which makes sense as the file was no longer there to rename."
   ]
  },
  {
   "cell_type": "markdown",
   "id": "db7197b5",
   "metadata": {},
   "source": [
    "The os module's remove and rename functions delete a file and specify a new name for a file, respectively. "
   ]
  },
  {
   "cell_type": "markdown",
   "id": "bc487976",
   "metadata": {},
   "source": [
    "Formatted data in a text file can not be modified without the risk of destroying other data in the file, because records and their fields can vary in size. "
   ]
  },
  {
   "cell_type": "code",
   "execution_count": 20,
   "id": "206eeca4",
   "metadata": {},
   "outputs": [],
   "source": [
    "accounts = open('accounts.txt', 'r')"
   ]
  },
  {
   "cell_type": "code",
   "execution_count": 22,
   "id": "0acf7fc5",
   "metadata": {},
   "outputs": [],
   "source": [
    "temp_file = open('temp_file.txt', 'w')"
   ]
  },
  {
   "cell_type": "code",
   "execution_count": 23,
   "id": "b2747235",
   "metadata": {},
   "outputs": [],
   "source": [
    "with accounts, temp_file:\n",
    "    for record in accounts:\n",
    "        account, name, balance = record.split()\n",
    "        if name != 'Doe':\n",
    "            temp_file.write(record)\n",
    "        else:\n",
    "            new_record = ' '.join([account, 'Smith', balance])\n",
    "            temp_file.write(new_record + '\\n')"
   ]
  },
  {
   "cell_type": "code",
   "execution_count": 24,
   "id": "f7e525ac",
   "metadata": {},
   "outputs": [],
   "source": [
    "import os"
   ]
  },
  {
   "cell_type": "code",
   "execution_count": 25,
   "id": "c72ba15d",
   "metadata": {},
   "outputs": [],
   "source": [
    "os.remove('accounts.txt')"
   ]
  },
  {
   "cell_type": "code",
   "execution_count": 27,
   "id": "93e03012",
   "metadata": {},
   "outputs": [
    {
     "ename": "FileNotFoundError",
     "evalue": "[Errno 2] No such file or directory: 'temp_file.txt' -> 'accounts.txt'",
     "output_type": "error",
     "traceback": [
      "\u001b[0;31m---------------------------------------------------------------------------\u001b[0m",
      "\u001b[0;31mFileNotFoundError\u001b[0m                         Traceback (most recent call last)",
      "Input \u001b[0;32mIn [27]\u001b[0m, in \u001b[0;36m<cell line: 1>\u001b[0;34m()\u001b[0m\n\u001b[0;32m----> 1\u001b[0m \u001b[43mos\u001b[49m\u001b[38;5;241;43m.\u001b[39;49m\u001b[43mrename\u001b[49m\u001b[43m(\u001b[49m\u001b[38;5;124;43m'\u001b[39;49m\u001b[38;5;124;43mtemp_file.txt\u001b[39;49m\u001b[38;5;124;43m'\u001b[39;49m\u001b[43m,\u001b[49m\u001b[43m \u001b[49m\u001b[38;5;124;43m'\u001b[39;49m\u001b[38;5;124;43maccounts.txt\u001b[39;49m\u001b[38;5;124;43m'\u001b[39;49m\u001b[43m)\u001b[49m\n",
      "\u001b[0;31mFileNotFoundError\u001b[0m: [Errno 2] No such file or directory: 'temp_file.txt' -> 'accounts.txt'"
     ]
    }
   ],
   "source": [
    "os.rename('temp_file.txt', 'accounts.txt')"
   ]
  },
  {
   "cell_type": "markdown",
   "id": "01d883bb",
   "metadata": {},
   "source": [
    "[27] Was re-run - ran fine 1x and then run again which then provided the above error, which makes sense as the file was no longer there to rename. (need to check directory before hitting \"Run\" again) "
   ]
  },
  {
   "cell_type": "code",
   "execution_count": 37,
   "id": "1f47cf89",
   "metadata": {},
   "outputs": [],
   "source": [
    "accounts_dict = {'accounts': [\n",
    "    {'account': 100, 'name': 'Jones', 'balance': 24.98},\n",
    "    {'account': 200, 'name': 'Doe', 'balance': 345.67}]}"
   ]
  },
  {
   "cell_type": "code",
   "execution_count": 29,
   "id": "76d4ed2b",
   "metadata": {},
   "outputs": [],
   "source": [
    "import json"
   ]
  },
  {
   "cell_type": "code",
   "execution_count": 38,
   "id": "6242f96c",
   "metadata": {},
   "outputs": [],
   "source": [
    "with open('accounts.json', 'w') as accounts:\n",
    "    json.dump(accounts_dict, accounts)"
   ]
  },
  {
   "cell_type": "code",
   "execution_count": 39,
   "id": "24f9b768",
   "metadata": {},
   "outputs": [],
   "source": [
    "with open('accounts.json', 'r') as accounts:\n",
    "    accounts_json = json.load(accounts)"
   ]
  },
  {
   "cell_type": "code",
   "execution_count": 40,
   "id": "f0fcc336",
   "metadata": {},
   "outputs": [
    {
     "data": {
      "text/plain": [
       "{'accounts': [{'account': 100, 'name': 'Jones', 'balance': 24.98},\n",
       "  {'account': 200, 'name': 'Doe', 'balance': 345.67}]}"
      ]
     },
     "execution_count": 40,
     "metadata": {},
     "output_type": "execute_result"
    }
   ],
   "source": [
    "accounts_json"
   ]
  },
  {
   "cell_type": "code",
   "execution_count": 41,
   "id": "1403400f",
   "metadata": {},
   "outputs": [
    {
     "data": {
      "text/plain": [
       "[{'account': 100, 'name': 'Jones', 'balance': 24.98},\n",
       " {'account': 200, 'name': 'Doe', 'balance': 345.67}]"
      ]
     },
     "execution_count": 41,
     "metadata": {},
     "output_type": "execute_result"
    }
   ],
   "source": [
    "accounts_json['accounts']"
   ]
  },
  {
   "cell_type": "code",
   "execution_count": 42,
   "id": "e5e5343c",
   "metadata": {},
   "outputs": [
    {
     "data": {
      "text/plain": [
       "{'account': 100, 'name': 'Jones', 'balance': 24.98}"
      ]
     },
     "execution_count": 42,
     "metadata": {},
     "output_type": "execute_result"
    }
   ],
   "source": [
    "accounts_json['accounts'][0]"
   ]
  },
  {
   "cell_type": "code",
   "execution_count": 43,
   "id": "5d2297e3",
   "metadata": {},
   "outputs": [
    {
     "data": {
      "text/plain": [
       "{'account': 200, 'name': 'Doe', 'balance': 345.67}"
      ]
     },
     "execution_count": 43,
     "metadata": {},
     "output_type": "execute_result"
    }
   ],
   "source": [
    "accounts_json['accounts'][1]"
   ]
  },
  {
   "cell_type": "code",
   "execution_count": 44,
   "id": "c40184bb",
   "metadata": {},
   "outputs": [
    {
     "data": {
      "text/plain": [
       "{'account': 200, 'name': 'Doe', 'balance': 345.67}"
      ]
     },
     "execution_count": 44,
     "metadata": {},
     "output_type": "execute_result"
    }
   ],
   "source": [
    "accounts_json['accounts'][1]"
   ]
  },
  {
   "cell_type": "code",
   "execution_count": 45,
   "id": "3bf8b623",
   "metadata": {},
   "outputs": [
    {
     "name": "stdout",
     "output_type": "stream",
     "text": [
      "{\n",
      "    \"accounts\": [\n",
      "        {\n",
      "            \"account\": 100,\n",
      "            \"name\": \"Jones\",\n",
      "            \"balance\": 24.98\n",
      "        },\n",
      "        {\n",
      "            \"account\": 200,\n",
      "            \"name\": \"Doe\",\n",
      "            \"balance\": 345.67\n",
      "        }\n",
      "    ]\n",
      "}\n"
     ]
    }
   ],
   "source": [
    "with open('accounts.json', 'r') as accounts: \n",
    "    print(json.dumps(json.load(accounts), indent=4))"
   ]
  },
  {
   "cell_type": "markdown",
   "id": "130a0b92",
   "metadata": {},
   "source": [
    "Converting objects to JSON text format is known as serialization and reconstructing the original Python object from the JSON text is known as deserialization. "
   ]
  },
  {
   "cell_type": "markdown",
   "id": "b72f84f4",
   "metadata": {},
   "source": [
    "JSON is both a human-readable and computer-readable format that makes it convenient to send and receive objects across the Internet. "
   ]
  },
  {
   "cell_type": "code",
   "execution_count": 47,
   "id": "e5f86ee0",
   "metadata": {},
   "outputs": [],
   "source": [
    "import json"
   ]
  },
  {
   "cell_type": "code",
   "execution_count": 48,
   "id": "ca17386f",
   "metadata": {},
   "outputs": [],
   "source": [
    "grades_dict = {'gradebook':\n",
    "               [{'student_id': 1, 'name': 'Red', 'grade': 'A'},\n",
    "                {'student_id': 2, 'name': 'Green', 'grade': 'B'},\n",
    "                {'student_id': 3, 'name': 'White', 'grade': 'A'}]}"
   ]
  },
  {
   "cell_type": "code",
   "execution_count": 49,
   "id": "3784f9a4",
   "metadata": {},
   "outputs": [],
   "source": [
    "with open('grades.json', 'w') as grades:\n",
    "    json.dump(grades_dict, grades)"
   ]
  },
  {
   "cell_type": "code",
   "execution_count": 50,
   "id": "d4bc5cf2",
   "metadata": {},
   "outputs": [
    {
     "name": "stdout",
     "output_type": "stream",
     "text": [
      "{\n",
      "    \"gradebook\": [\n",
      "        {\n",
      "            \"student_id\": 1,\n",
      "            \"name\": \"Red\",\n",
      "            \"grade\": \"A\"\n",
      "        },\n",
      "        {\n",
      "            \"student_id\": 2,\n",
      "            \"name\": \"Green\",\n",
      "            \"grade\": \"B\"\n",
      "        },\n",
      "        {\n",
      "            \"student_id\": 3,\n",
      "            \"name\": \"White\",\n",
      "            \"grade\": \"A\"\n",
      "        }\n",
      "    ]\n",
      "}\n"
     ]
    }
   ],
   "source": [
    "with open('grades.json', 'r') as grades:\n",
    "    print(json.dumps(json.load(grades), indent=4))"
   ]
  },
  {
   "cell_type": "markdown",
   "id": "02c5edce",
   "metadata": {},
   "source": [
    "The classes that Python uses to create file objects are defined in the Python Standard Library's io module "
   ]
  },
  {
   "cell_type": "markdown",
   "id": "ecc7b8a9",
   "metadata": {},
   "source": [
    "You may specify and argument indicating the number of characters (or byters for a binary file) to read from the file. If no argument is specified the method returns the entire contents of the file. "
   ]
  },
  {
   "cell_type": "code",
   "execution_count": 51,
   "id": "57b1416f",
   "metadata": {},
   "outputs": [
    {
     "ename": "ZeroDivisionError",
     "evalue": "division by zero",
     "output_type": "error",
     "traceback": [
      "\u001b[0;31m---------------------------------------------------------------------------\u001b[0m",
      "\u001b[0;31mZeroDivisionError\u001b[0m                         Traceback (most recent call last)",
      "Input \u001b[0;32mIn [51]\u001b[0m, in \u001b[0;36m<cell line: 1>\u001b[0;34m()\u001b[0m\n\u001b[0;32m----> 1\u001b[0m \u001b[38;5;241;43m10\u001b[39;49m\u001b[38;5;241;43m/\u001b[39;49m\u001b[38;5;241;43m0\u001b[39;49m\n",
      "\u001b[0;31mZeroDivisionError\u001b[0m: division by zero"
     ]
    }
   ],
   "source": [
    "10/0"
   ]
  },
  {
   "cell_type": "code",
   "execution_count": 52,
   "id": "38cce074",
   "metadata": {},
   "outputs": [
    {
     "name": "stdout",
     "output_type": "stream",
     "text": [
      "Enter an integer: hello\n"
     ]
    },
    {
     "ename": "ValueError",
     "evalue": "invalid literal for int() with base 10: 'hello'",
     "output_type": "error",
     "traceback": [
      "\u001b[0;31m---------------------------------------------------------------------------\u001b[0m",
      "\u001b[0;31mValueError\u001b[0m                                Traceback (most recent call last)",
      "Input \u001b[0;32mIn [52]\u001b[0m, in \u001b[0;36m<cell line: 1>\u001b[0;34m()\u001b[0m\n\u001b[0;32m----> 1\u001b[0m value \u001b[38;5;241m=\u001b[39m \u001b[38;5;28;43mint\u001b[39;49m\u001b[43m(\u001b[49m\u001b[38;5;28;43minput\u001b[39;49m\u001b[43m(\u001b[49m\u001b[38;5;124;43m'\u001b[39;49m\u001b[38;5;124;43mEnter an integer: \u001b[39;49m\u001b[38;5;124;43m'\u001b[39;49m\u001b[43m)\u001b[49m\u001b[43m)\u001b[49m\n",
      "\u001b[0;31mValueError\u001b[0m: invalid literal for int() with base 10: 'hello'"
     ]
    }
   ],
   "source": [
    "value = int(input('Enter an integer: '))"
   ]
  },
  {
   "cell_type": "code",
   "execution_count": 53,
   "id": "9cee962f",
   "metadata": {},
   "outputs": [
    {
     "name": "stdout",
     "output_type": "stream",
     "text": [
      "Enter numerator: 100\n",
      "Enter denominator: 0\n",
      "Attempted to divide by zero\n",
      "\n",
      "Enter numerator: 100\n",
      "Enter denominator: hello\n",
      "You must enter two integers\n",
      "\n",
      "Enter numerator: 100\n",
      "Enter denominator: 7\n",
      "100.000 / 7.000 = 14.286\n"
     ]
    }
   ],
   "source": [
    "while True:\n",
    "    # attempt to convert and divide values\n",
    "    try:\n",
    "        number1 = int(input('Enter numerator: '))\n",
    "        number2 = int(input('Enter denominator: '))\n",
    "        result = number1 / number2\n",
    "    except ValueError: # tried to convert non-numeric value to int\n",
    "        print('You must enter two integers\\n')\n",
    "    except ZeroDivisionError: # denominator was 0\n",
    "        print('Attempted to divide by zero\\n')\n",
    "    else: # executes only if no exceptions occur\n",
    "        print(f'{number1:.3f} / {number2:.3f} = {result:.3f}')\n",
    "        break # terminate the loop"
   ]
  },
  {
   "cell_type": "markdown",
   "id": "a3ae951d",
   "metadata": {},
   "source": [
    "The statement that raises an exception is sometimes called the raise point of the exception. "
   ]
  },
  {
   "cell_type": "markdown",
   "id": "f72ee9e3",
   "metadata": {},
   "source": [
    "Program control continues from the first statement after the try statement in which the exception was handled "
   ]
  },
  {
   "cell_type": "code",
   "execution_count": 54,
   "id": "05a23473",
   "metadata": {},
   "outputs": [],
   "source": [
    "def try_it(value):\n",
    "    try:\n",
    "        x = int(value)\n",
    "    except ValueError:\n",
    "        print(f' {value} could not be converted to an integer')\n",
    "    else:\n",
    "        print(f' int({value}) is {x}')"
   ]
  },
  {
   "cell_type": "code",
   "execution_count": 55,
   "id": "f04b34a1",
   "metadata": {},
   "outputs": [
    {
     "name": "stdout",
     "output_type": "stream",
     "text": [
      " int(10.7) is 10\n"
     ]
    }
   ],
   "source": [
    "try_it(10.7)"
   ]
  },
  {
   "cell_type": "code",
   "execution_count": 56,
   "id": "caea7398",
   "metadata": {},
   "outputs": [
    {
     "name": "stdout",
     "output_type": "stream",
     "text": [
      " Python could not be converted to an integer\n"
     ]
    }
   ],
   "source": [
    "try_it('Python')"
   ]
  },
  {
   "cell_type": "code",
   "execution_count": 57,
   "id": "4eda467d",
   "metadata": {},
   "outputs": [
    {
     "name": "stdout",
     "output_type": "stream",
     "text": [
      "try suite with no exceptions raised\n",
      "else executes because no exceptions in the try suite\n",
      "finally always executes\n"
     ]
    }
   ],
   "source": [
    "try:\n",
    "    print('try suite with no exceptions raised')\n",
    "except:\n",
    "    print('this will not execute')\n",
    "else:\n",
    "    print('else executes because no exceptions in the try suite')\n",
    "finally:\n",
    "    print('finally always executes')"
   ]
  },
  {
   "cell_type": "code",
   "execution_count": 58,
   "id": "8244fd8e",
   "metadata": {},
   "outputs": [
    {
     "name": "stdout",
     "output_type": "stream",
     "text": [
      "try suite that raises an exception\n",
      "a ValueError occurred\n",
      "finally always executes\n"
     ]
    }
   ],
   "source": [
    "try:\n",
    "    print('try suite that raises an exception')\n",
    "    int('hello')\n",
    "    print('this will not execute')\n",
    "except ValueError:\n",
    "    print('a ValueError occurred')\n",
    "else:\n",
    "    print('else will not execute because an exception occurred')\n",
    "finally:\n",
    "    print('finally always executes')"
   ]
  },
  {
   "cell_type": "code",
   "execution_count": 59,
   "id": "844eeb63",
   "metadata": {},
   "outputs": [
    {
     "ename": "FileNotFoundError",
     "evalue": "[Errno 2] No such file or directory: 'gradez.txt'",
     "output_type": "error",
     "traceback": [
      "\u001b[0;31m---------------------------------------------------------------------------\u001b[0m",
      "\u001b[0;31mFileNotFoundError\u001b[0m                         Traceback (most recent call last)",
      "Input \u001b[0;32mIn [59]\u001b[0m, in \u001b[0;36m<cell line: 1>\u001b[0;34m()\u001b[0m\n\u001b[0;32m----> 1\u001b[0m \u001b[38;5;28;43mopen\u001b[39;49m\u001b[43m(\u001b[49m\u001b[38;5;124;43m'\u001b[39;49m\u001b[38;5;124;43mgradez.txt\u001b[39;49m\u001b[38;5;124;43m'\u001b[39;49m\u001b[43m)\u001b[49m\n",
      "\u001b[0;31mFileNotFoundError\u001b[0m: [Errno 2] No such file or directory: 'gradez.txt'"
     ]
    }
   ],
   "source": [
    "open('gradez.txt')"
   ]
  },
  {
   "cell_type": "code",
   "execution_count": 60,
   "id": "c0e78f81",
   "metadata": {},
   "outputs": [
    {
     "name": "stdout",
     "output_type": "stream",
     "text": [
      "The file name you specified does not exist\n"
     ]
    }
   ],
   "source": [
    "try:\n",
    "    with open('gradez.txt', 'r') as accounts:\n",
    "        print(f'{\"ID\":<3}{\"Name\":<7}{\"Grade\"}')\n",
    "        for record in accounts:\n",
    "            student_id, name, grade = record.split()\n",
    "            print(f'{student_id:<3}{name:<7}{grade}')\n",
    "except FileNotFoundError:\n",
    "    print('The file name you specified does not exist')"
   ]
  },
  {
   "cell_type": "markdown",
   "id": "3ab7c469",
   "metadata": {},
   "source": [
    "The finally clause will execute only if program control enters the corresponding try suite. "
   ]
  },
  {
   "cell_type": "markdown",
   "id": "ffb89200",
   "metadata": {},
   "source": [
    "Closing a file helps prevent a resource leak in which the file resource is not available to other programs because a program using the file never closes it. "
   ]
  },
  {
   "cell_type": "code",
   "execution_count": 61,
   "id": "0a9d1536",
   "metadata": {},
   "outputs": [],
   "source": [
    "def try_it(value):\n",
    "    try:\n",
    "        x = int(value)\n",
    "    except ValueError:\n",
    "        print(f'{value} could not be converted to an integer')\n",
    "    else:\n",
    "        print(f'int({value}) is {x}')\n",
    "    finally:\n",
    "        print('finally executed')"
   ]
  },
  {
   "cell_type": "code",
   "execution_count": 62,
   "id": "0b791065",
   "metadata": {},
   "outputs": [
    {
     "name": "stdout",
     "output_type": "stream",
     "text": [
      "int(10.7) is 10\n",
      "finally executed\n"
     ]
    }
   ],
   "source": [
    "try_it(10.7)"
   ]
  },
  {
   "cell_type": "code",
   "execution_count": 63,
   "id": "895b2ab0",
   "metadata": {},
   "outputs": [
    {
     "name": "stdout",
     "output_type": "stream",
     "text": [
      "Python could not be converted to an integer\n",
      "finally executed\n"
     ]
    }
   ],
   "source": [
    "try_it('Python')"
   ]
  },
  {
   "cell_type": "markdown",
   "id": "ee872483",
   "metadata": {},
   "source": [
    "Use the raise statement to indicate that a problem occured at execution time"
   ]
  },
  {
   "cell_type": "code",
   "execution_count": 64,
   "id": "d074e9b6",
   "metadata": {},
   "outputs": [],
   "source": [
    "def function1():\n",
    "    function2()"
   ]
  },
  {
   "cell_type": "code",
   "execution_count": 65,
   "id": "07460850",
   "metadata": {},
   "outputs": [],
   "source": [
    "def function2():\n",
    "    raise Exception('An exception occurred')"
   ]
  },
  {
   "cell_type": "code",
   "execution_count": 66,
   "id": "77e70d19",
   "metadata": {},
   "outputs": [
    {
     "ename": "Exception",
     "evalue": "An exception occurred",
     "output_type": "error",
     "traceback": [
      "\u001b[0;31m---------------------------------------------------------------------------\u001b[0m",
      "\u001b[0;31mException\u001b[0m                                 Traceback (most recent call last)",
      "Input \u001b[0;32mIn [66]\u001b[0m, in \u001b[0;36m<cell line: 1>\u001b[0;34m()\u001b[0m\n\u001b[0;32m----> 1\u001b[0m \u001b[43mfunction1\u001b[49m\u001b[43m(\u001b[49m\u001b[43m)\u001b[49m\n",
      "Input \u001b[0;32mIn [64]\u001b[0m, in \u001b[0;36mfunction1\u001b[0;34m()\u001b[0m\n\u001b[1;32m      1\u001b[0m \u001b[38;5;28;01mdef\u001b[39;00m \u001b[38;5;21mfunction1\u001b[39m():\n\u001b[0;32m----> 2\u001b[0m     \u001b[43mfunction2\u001b[49m\u001b[43m(\u001b[49m\u001b[43m)\u001b[49m\n",
      "Input \u001b[0;32mIn [65]\u001b[0m, in \u001b[0;36mfunction2\u001b[0;34m()\u001b[0m\n\u001b[1;32m      1\u001b[0m \u001b[38;5;28;01mdef\u001b[39;00m \u001b[38;5;21mfunction2\u001b[39m():\n\u001b[0;32m----> 2\u001b[0m     \u001b[38;5;28;01mraise\u001b[39;00m \u001b[38;5;167;01mException\u001b[39;00m(\u001b[38;5;124m'\u001b[39m\u001b[38;5;124mAn exception occurred\u001b[39m\u001b[38;5;124m'\u001b[39m)\n",
      "\u001b[0;31mException\u001b[0m: An exception occurred"
     ]
    }
   ],
   "source": [
    "function1()"
   ]
  },
  {
   "cell_type": "markdown",
   "id": "04c415bb",
   "metadata": {},
   "source": [
    "An uncaught exception in a function causes stack unwinding. The function's stack frame is removed from the function-call stack "
   ]
  },
  {
   "cell_type": "markdown",
   "id": "8303371d",
   "metadata": {},
   "source": [
    "Although it is possible to handle an exception in the function that raises it, normally an exception is handled by calling function on the function-call stack"
   ]
  },
  {
   "cell_type": "markdown",
   "id": "7b0c2eb4",
   "metadata": {},
   "source": [
    "Exceptions can be raised by any code, regardless of whether the code is wrapped in a try statement. "
   ]
  },
  {
   "cell_type": "code",
   "execution_count": 67,
   "id": "383c20b3",
   "metadata": {},
   "outputs": [],
   "source": [
    "import csv"
   ]
  },
  {
   "cell_type": "code",
   "execution_count": 68,
   "id": "4c625c66",
   "metadata": {},
   "outputs": [],
   "source": [
    "with open('accounts.csv', mode='w', newline='') as accounts:\n",
    "    writer = csv.writer(accounts)\n",
    "    writer.writerow([100, 'Jones', 24.98])\n",
    "    writer.writerow([200, 'Doe', 345.67])\n",
    "    writer.writerow([300, 'White', 0.00])\n",
    "    writer.writerow([400, 'Stone', -42.16])\n",
    "    writer.writerow([500, 'Rich', 224.62])"
   ]
  },
  {
   "cell_type": "code",
   "execution_count": 69,
   "id": "66130897",
   "metadata": {},
   "outputs": [
    {
     "name": "stdout",
     "output_type": "stream",
     "text": [
      "Account   Name         Balance\n",
      "100       Jones          24.98\n",
      "200       Doe           345.67\n",
      "300       White            0.0\n",
      "400       Stone         -42.16\n",
      "500       Rich          224.62\n"
     ]
    }
   ],
   "source": [
    "with open('accounts.csv', 'r', newline='') as accounts:\n",
    "    print(f'{\"Account\":<10}{\"Name\":<10}{\"Balance\":>10}')\n",
    "    reader = csv.reader(accounts)\n",
    "    for record in reader:\n",
    "        account, name, balance = record\n",
    "        print(f'{account:<10}{name:<10}{balance:>10}')"
   ]
  },
  {
   "cell_type": "markdown",
   "id": "2570c8e8",
   "metadata": {},
   "source": [
    "The csv module provides capabilities for writing and reading files in comman-seperated values(CSV) format "
   ]
  },
  {
   "cell_type": "markdown",
   "id": "91f1f348",
   "metadata": {},
   "source": [
    "The csv module's reader function returns an object that reads from the specified file object CSV-format data "
   ]
  },
  {
   "cell_type": "code",
   "execution_count": 70,
   "id": "1c2f44ed",
   "metadata": {},
   "outputs": [],
   "source": [
    "with open('grades.csv', mode='w', newline='') as grades:\n",
    "    writer = csv.writer(grades)\n",
    "    writer.writerow([1, 'Red', 'A'])\n",
    "    writer.writerow([2, 'Green', 'B'])\n",
    "    writer.writerow([3, 'White', 'A'])"
   ]
  },
  {
   "cell_type": "code",
   "execution_count": 71,
   "id": "f91ed62a",
   "metadata": {},
   "outputs": [
    {
     "name": "stdout",
     "output_type": "stream",
     "text": [
      "ID  Name   Grade\n",
      "1   Red       A\n",
      "2   Green     B\n",
      "3   White     A\n"
     ]
    }
   ],
   "source": [
    "with open('grades.csv', 'r', newline='') as grades:\n",
    "    print(f'{\"ID\":<4}{\"Name\":<7}{\"Grade\"}')\n",
    "    reader = csv.reader(grades)\n",
    "    for record in reader:\n",
    "        student_id, name, grade = record\n",
    "        print(f'{student_id:<4}{name:<10}{grade}')"
   ]
  },
  {
   "cell_type": "code",
   "execution_count": 72,
   "id": "28dfdd6f",
   "metadata": {},
   "outputs": [],
   "source": [
    "import pandas as pd"
   ]
  },
  {
   "cell_type": "code",
   "execution_count": 73,
   "id": "95e189d7",
   "metadata": {},
   "outputs": [],
   "source": [
    "df = pd.read_csv('accounts.csv',\n",
    "                 names=['account', 'name', 'balance'])"
   ]
  },
  {
   "cell_type": "code",
   "execution_count": 74,
   "id": "380b650a",
   "metadata": {},
   "outputs": [
    {
     "data": {
      "text/html": [
       "<div>\n",
       "<style scoped>\n",
       "    .dataframe tbody tr th:only-of-type {\n",
       "        vertical-align: middle;\n",
       "    }\n",
       "\n",
       "    .dataframe tbody tr th {\n",
       "        vertical-align: top;\n",
       "    }\n",
       "\n",
       "    .dataframe thead th {\n",
       "        text-align: right;\n",
       "    }\n",
       "</style>\n",
       "<table border=\"1\" class=\"dataframe\">\n",
       "  <thead>\n",
       "    <tr style=\"text-align: right;\">\n",
       "      <th></th>\n",
       "      <th>account</th>\n",
       "      <th>name</th>\n",
       "      <th>balance</th>\n",
       "    </tr>\n",
       "  </thead>\n",
       "  <tbody>\n",
       "    <tr>\n",
       "      <th>0</th>\n",
       "      <td>100</td>\n",
       "      <td>Jones</td>\n",
       "      <td>24.98</td>\n",
       "    </tr>\n",
       "    <tr>\n",
       "      <th>1</th>\n",
       "      <td>200</td>\n",
       "      <td>Doe</td>\n",
       "      <td>345.67</td>\n",
       "    </tr>\n",
       "    <tr>\n",
       "      <th>2</th>\n",
       "      <td>300</td>\n",
       "      <td>White</td>\n",
       "      <td>0.00</td>\n",
       "    </tr>\n",
       "    <tr>\n",
       "      <th>3</th>\n",
       "      <td>400</td>\n",
       "      <td>Stone</td>\n",
       "      <td>-42.16</td>\n",
       "    </tr>\n",
       "    <tr>\n",
       "      <th>4</th>\n",
       "      <td>500</td>\n",
       "      <td>Rich</td>\n",
       "      <td>224.62</td>\n",
       "    </tr>\n",
       "  </tbody>\n",
       "</table>\n",
       "</div>"
      ],
      "text/plain": [
       "   account   name  balance\n",
       "0      100  Jones    24.98\n",
       "1      200    Doe   345.67\n",
       "2      300  White     0.00\n",
       "3      400  Stone   -42.16\n",
       "4      500   Rich   224.62"
      ]
     },
     "execution_count": 74,
     "metadata": {},
     "output_type": "execute_result"
    }
   ],
   "source": [
    "df"
   ]
  },
  {
   "cell_type": "code",
   "execution_count": 75,
   "id": "0dab2b7d",
   "metadata": {},
   "outputs": [],
   "source": [
    "titanic = pd.read_csv('https://vincentarelbundock.github.io/' +\n",
    "                      'Rdatasets/csv/carData/TitanicSurvival.csv')"
   ]
  },
  {
   "cell_type": "code",
   "execution_count": 76,
   "id": "6b35ea61",
   "metadata": {},
   "outputs": [
    {
     "data": {
      "text/html": [
       "<div>\n",
       "<style scoped>\n",
       "    .dataframe tbody tr th:only-of-type {\n",
       "        vertical-align: middle;\n",
       "    }\n",
       "\n",
       "    .dataframe tbody tr th {\n",
       "        vertical-align: top;\n",
       "    }\n",
       "\n",
       "    .dataframe thead th {\n",
       "        text-align: right;\n",
       "    }\n",
       "</style>\n",
       "<table border=\"1\" class=\"dataframe\">\n",
       "  <thead>\n",
       "    <tr style=\"text-align: right;\">\n",
       "      <th></th>\n",
       "      <th>Unnamed: 0</th>\n",
       "      <th>survived</th>\n",
       "      <th>sex</th>\n",
       "      <th>age</th>\n",
       "      <th>passengerClass</th>\n",
       "    </tr>\n",
       "  </thead>\n",
       "  <tbody>\n",
       "    <tr>\n",
       "      <th>0</th>\n",
       "      <td>Allen, Miss. Elisabeth Walton</td>\n",
       "      <td>yes</td>\n",
       "      <td>female</td>\n",
       "      <td>29.0000</td>\n",
       "      <td>1st</td>\n",
       "    </tr>\n",
       "    <tr>\n",
       "      <th>1</th>\n",
       "      <td>Allison, Master. Hudson Trevor</td>\n",
       "      <td>yes</td>\n",
       "      <td>male</td>\n",
       "      <td>0.9167</td>\n",
       "      <td>1st</td>\n",
       "    </tr>\n",
       "    <tr>\n",
       "      <th>2</th>\n",
       "      <td>Allison, Miss. Helen Loraine</td>\n",
       "      <td>no</td>\n",
       "      <td>female</td>\n",
       "      <td>2.0000</td>\n",
       "      <td>1st</td>\n",
       "    </tr>\n",
       "    <tr>\n",
       "      <th>3</th>\n",
       "      <td>Allison, Mr. Hudson Joshua Crei</td>\n",
       "      <td>no</td>\n",
       "      <td>male</td>\n",
       "      <td>30.0000</td>\n",
       "      <td>1st</td>\n",
       "    </tr>\n",
       "    <tr>\n",
       "      <th>4</th>\n",
       "      <td>Allison, Mrs. Hudson J C (Bessi</td>\n",
       "      <td>no</td>\n",
       "      <td>female</td>\n",
       "      <td>25.0000</td>\n",
       "      <td>1st</td>\n",
       "    </tr>\n",
       "    <tr>\n",
       "      <th>...</th>\n",
       "      <td>...</td>\n",
       "      <td>...</td>\n",
       "      <td>...</td>\n",
       "      <td>...</td>\n",
       "      <td>...</td>\n",
       "    </tr>\n",
       "    <tr>\n",
       "      <th>1304</th>\n",
       "      <td>Zabour, Miss. Hileni</td>\n",
       "      <td>no</td>\n",
       "      <td>female</td>\n",
       "      <td>14.5000</td>\n",
       "      <td>3rd</td>\n",
       "    </tr>\n",
       "    <tr>\n",
       "      <th>1305</th>\n",
       "      <td>Zabour, Miss. Thamine</td>\n",
       "      <td>no</td>\n",
       "      <td>female</td>\n",
       "      <td>NaN</td>\n",
       "      <td>3rd</td>\n",
       "    </tr>\n",
       "    <tr>\n",
       "      <th>1306</th>\n",
       "      <td>Zakarian, Mr. Mapriededer</td>\n",
       "      <td>no</td>\n",
       "      <td>male</td>\n",
       "      <td>26.5000</td>\n",
       "      <td>3rd</td>\n",
       "    </tr>\n",
       "    <tr>\n",
       "      <th>1307</th>\n",
       "      <td>Zakarian, Mr. Ortin</td>\n",
       "      <td>no</td>\n",
       "      <td>male</td>\n",
       "      <td>27.0000</td>\n",
       "      <td>3rd</td>\n",
       "    </tr>\n",
       "    <tr>\n",
       "      <th>1308</th>\n",
       "      <td>Zimmerman, Mr. Leo</td>\n",
       "      <td>no</td>\n",
       "      <td>male</td>\n",
       "      <td>29.0000</td>\n",
       "      <td>3rd</td>\n",
       "    </tr>\n",
       "  </tbody>\n",
       "</table>\n",
       "<p>1309 rows × 5 columns</p>\n",
       "</div>"
      ],
      "text/plain": [
       "                           Unnamed: 0 survived     sex      age passengerClass\n",
       "0       Allen, Miss. Elisabeth Walton      yes  female  29.0000            1st\n",
       "1      Allison, Master. Hudson Trevor      yes    male   0.9167            1st\n",
       "2        Allison, Miss. Helen Loraine       no  female   2.0000            1st\n",
       "3     Allison, Mr. Hudson Joshua Crei       no    male  30.0000            1st\n",
       "4     Allison, Mrs. Hudson J C (Bessi       no  female  25.0000            1st\n",
       "...                               ...      ...     ...      ...            ...\n",
       "1304             Zabour, Miss. Hileni       no  female  14.5000            3rd\n",
       "1305            Zabour, Miss. Thamine       no  female      NaN            3rd\n",
       "1306        Zakarian, Mr. Mapriededer       no    male  26.5000            3rd\n",
       "1307              Zakarian, Mr. Ortin       no    male  27.0000            3rd\n",
       "1308               Zimmerman, Mr. Leo       no    male  29.0000            3rd\n",
       "\n",
       "[1309 rows x 5 columns]"
      ]
     },
     "execution_count": 76,
     "metadata": {},
     "output_type": "execute_result"
    }
   ],
   "source": [
    "titanic"
   ]
  },
  {
   "cell_type": "code",
   "execution_count": 77,
   "id": "a4db3e8a",
   "metadata": {},
   "outputs": [],
   "source": [
    "pd.set_option('display.precision', 2)"
   ]
  },
  {
   "cell_type": "code",
   "execution_count": 78,
   "id": "7473d755",
   "metadata": {},
   "outputs": [
    {
     "data": {
      "text/html": [
       "<div>\n",
       "<style scoped>\n",
       "    .dataframe tbody tr th:only-of-type {\n",
       "        vertical-align: middle;\n",
       "    }\n",
       "\n",
       "    .dataframe tbody tr th {\n",
       "        vertical-align: top;\n",
       "    }\n",
       "\n",
       "    .dataframe thead th {\n",
       "        text-align: right;\n",
       "    }\n",
       "</style>\n",
       "<table border=\"1\" class=\"dataframe\">\n",
       "  <thead>\n",
       "    <tr style=\"text-align: right;\">\n",
       "      <th></th>\n",
       "      <th>Unnamed: 0</th>\n",
       "      <th>survived</th>\n",
       "      <th>sex</th>\n",
       "      <th>age</th>\n",
       "      <th>passengerClass</th>\n",
       "    </tr>\n",
       "  </thead>\n",
       "  <tbody>\n",
       "    <tr>\n",
       "      <th>0</th>\n",
       "      <td>Allen, Miss. Elisabeth Walton</td>\n",
       "      <td>yes</td>\n",
       "      <td>female</td>\n",
       "      <td>29.00</td>\n",
       "      <td>1st</td>\n",
       "    </tr>\n",
       "    <tr>\n",
       "      <th>1</th>\n",
       "      <td>Allison, Master. Hudson Trevor</td>\n",
       "      <td>yes</td>\n",
       "      <td>male</td>\n",
       "      <td>0.92</td>\n",
       "      <td>1st</td>\n",
       "    </tr>\n",
       "    <tr>\n",
       "      <th>2</th>\n",
       "      <td>Allison, Miss. Helen Loraine</td>\n",
       "      <td>no</td>\n",
       "      <td>female</td>\n",
       "      <td>2.00</td>\n",
       "      <td>1st</td>\n",
       "    </tr>\n",
       "    <tr>\n",
       "      <th>3</th>\n",
       "      <td>Allison, Mr. Hudson Joshua Crei</td>\n",
       "      <td>no</td>\n",
       "      <td>male</td>\n",
       "      <td>30.00</td>\n",
       "      <td>1st</td>\n",
       "    </tr>\n",
       "    <tr>\n",
       "      <th>4</th>\n",
       "      <td>Allison, Mrs. Hudson J C (Bessi</td>\n",
       "      <td>no</td>\n",
       "      <td>female</td>\n",
       "      <td>25.00</td>\n",
       "      <td>1st</td>\n",
       "    </tr>\n",
       "  </tbody>\n",
       "</table>\n",
       "</div>"
      ],
      "text/plain": [
       "                        Unnamed: 0 survived     sex    age passengerClass\n",
       "0    Allen, Miss. Elisabeth Walton      yes  female  29.00            1st\n",
       "1   Allison, Master. Hudson Trevor      yes    male   0.92            1st\n",
       "2     Allison, Miss. Helen Loraine       no  female   2.00            1st\n",
       "3  Allison, Mr. Hudson Joshua Crei       no    male  30.00            1st\n",
       "4  Allison, Mrs. Hudson J C (Bessi       no  female  25.00            1st"
      ]
     },
     "execution_count": 78,
     "metadata": {},
     "output_type": "execute_result"
    }
   ],
   "source": [
    "titanic.head()"
   ]
  },
  {
   "cell_type": "code",
   "execution_count": 79,
   "id": "024fee42",
   "metadata": {},
   "outputs": [
    {
     "data": {
      "text/html": [
       "<div>\n",
       "<style scoped>\n",
       "    .dataframe tbody tr th:only-of-type {\n",
       "        vertical-align: middle;\n",
       "    }\n",
       "\n",
       "    .dataframe tbody tr th {\n",
       "        vertical-align: top;\n",
       "    }\n",
       "\n",
       "    .dataframe thead th {\n",
       "        text-align: right;\n",
       "    }\n",
       "</style>\n",
       "<table border=\"1\" class=\"dataframe\">\n",
       "  <thead>\n",
       "    <tr style=\"text-align: right;\">\n",
       "      <th></th>\n",
       "      <th>Unnamed: 0</th>\n",
       "      <th>survived</th>\n",
       "      <th>sex</th>\n",
       "      <th>age</th>\n",
       "      <th>passengerClass</th>\n",
       "    </tr>\n",
       "  </thead>\n",
       "  <tbody>\n",
       "    <tr>\n",
       "      <th>1304</th>\n",
       "      <td>Zabour, Miss. Hileni</td>\n",
       "      <td>no</td>\n",
       "      <td>female</td>\n",
       "      <td>14.5</td>\n",
       "      <td>3rd</td>\n",
       "    </tr>\n",
       "    <tr>\n",
       "      <th>1305</th>\n",
       "      <td>Zabour, Miss. Thamine</td>\n",
       "      <td>no</td>\n",
       "      <td>female</td>\n",
       "      <td>NaN</td>\n",
       "      <td>3rd</td>\n",
       "    </tr>\n",
       "    <tr>\n",
       "      <th>1306</th>\n",
       "      <td>Zakarian, Mr. Mapriededer</td>\n",
       "      <td>no</td>\n",
       "      <td>male</td>\n",
       "      <td>26.5</td>\n",
       "      <td>3rd</td>\n",
       "    </tr>\n",
       "    <tr>\n",
       "      <th>1307</th>\n",
       "      <td>Zakarian, Mr. Ortin</td>\n",
       "      <td>no</td>\n",
       "      <td>male</td>\n",
       "      <td>27.0</td>\n",
       "      <td>3rd</td>\n",
       "    </tr>\n",
       "    <tr>\n",
       "      <th>1308</th>\n",
       "      <td>Zimmerman, Mr. Leo</td>\n",
       "      <td>no</td>\n",
       "      <td>male</td>\n",
       "      <td>29.0</td>\n",
       "      <td>3rd</td>\n",
       "    </tr>\n",
       "  </tbody>\n",
       "</table>\n",
       "</div>"
      ],
      "text/plain": [
       "                     Unnamed: 0 survived     sex   age passengerClass\n",
       "1304       Zabour, Miss. Hileni       no  female  14.5            3rd\n",
       "1305      Zabour, Miss. Thamine       no  female   NaN            3rd\n",
       "1306  Zakarian, Mr. Mapriededer       no    male  26.5            3rd\n",
       "1307        Zakarian, Mr. Ortin       no    male  27.0            3rd\n",
       "1308         Zimmerman, Mr. Leo       no    male  29.0            3rd"
      ]
     },
     "execution_count": 79,
     "metadata": {},
     "output_type": "execute_result"
    }
   ],
   "source": [
    "titanic.tail()"
   ]
  },
  {
   "cell_type": "code",
   "execution_count": 80,
   "id": "44a8d3b6",
   "metadata": {},
   "outputs": [],
   "source": [
    "titanic.columns = ['name', 'survived', 'sex', 'age', 'class']"
   ]
  },
  {
   "cell_type": "code",
   "execution_count": 81,
   "id": "0524330e",
   "metadata": {},
   "outputs": [
    {
     "data": {
      "text/html": [
       "<div>\n",
       "<style scoped>\n",
       "    .dataframe tbody tr th:only-of-type {\n",
       "        vertical-align: middle;\n",
       "    }\n",
       "\n",
       "    .dataframe tbody tr th {\n",
       "        vertical-align: top;\n",
       "    }\n",
       "\n",
       "    .dataframe thead th {\n",
       "        text-align: right;\n",
       "    }\n",
       "</style>\n",
       "<table border=\"1\" class=\"dataframe\">\n",
       "  <thead>\n",
       "    <tr style=\"text-align: right;\">\n",
       "      <th></th>\n",
       "      <th>name</th>\n",
       "      <th>survived</th>\n",
       "      <th>sex</th>\n",
       "      <th>age</th>\n",
       "      <th>class</th>\n",
       "    </tr>\n",
       "  </thead>\n",
       "  <tbody>\n",
       "    <tr>\n",
       "      <th>0</th>\n",
       "      <td>Allen, Miss. Elisabeth Walton</td>\n",
       "      <td>yes</td>\n",
       "      <td>female</td>\n",
       "      <td>29.00</td>\n",
       "      <td>1st</td>\n",
       "    </tr>\n",
       "    <tr>\n",
       "      <th>1</th>\n",
       "      <td>Allison, Master. Hudson Trevor</td>\n",
       "      <td>yes</td>\n",
       "      <td>male</td>\n",
       "      <td>0.92</td>\n",
       "      <td>1st</td>\n",
       "    </tr>\n",
       "    <tr>\n",
       "      <th>2</th>\n",
       "      <td>Allison, Miss. Helen Loraine</td>\n",
       "      <td>no</td>\n",
       "      <td>female</td>\n",
       "      <td>2.00</td>\n",
       "      <td>1st</td>\n",
       "    </tr>\n",
       "    <tr>\n",
       "      <th>3</th>\n",
       "      <td>Allison, Mr. Hudson Joshua Crei</td>\n",
       "      <td>no</td>\n",
       "      <td>male</td>\n",
       "      <td>30.00</td>\n",
       "      <td>1st</td>\n",
       "    </tr>\n",
       "    <tr>\n",
       "      <th>4</th>\n",
       "      <td>Allison, Mrs. Hudson J C (Bessi</td>\n",
       "      <td>no</td>\n",
       "      <td>female</td>\n",
       "      <td>25.00</td>\n",
       "      <td>1st</td>\n",
       "    </tr>\n",
       "  </tbody>\n",
       "</table>\n",
       "</div>"
      ],
      "text/plain": [
       "                              name survived     sex    age class\n",
       "0    Allen, Miss. Elisabeth Walton      yes  female  29.00   1st\n",
       "1   Allison, Master. Hudson Trevor      yes    male   0.92   1st\n",
       "2     Allison, Miss. Helen Loraine       no  female   2.00   1st\n",
       "3  Allison, Mr. Hudson Joshua Crei       no    male  30.00   1st\n",
       "4  Allison, Mrs. Hudson J C (Bessi       no  female  25.00   1st"
      ]
     },
     "execution_count": 81,
     "metadata": {},
     "output_type": "execute_result"
    }
   ],
   "source": [
    "titanic.head()"
   ]
  },
  {
   "cell_type": "code",
   "execution_count": 82,
   "id": "37073608",
   "metadata": {},
   "outputs": [
    {
     "data": {
      "text/html": [
       "<div>\n",
       "<style scoped>\n",
       "    .dataframe tbody tr th:only-of-type {\n",
       "        vertical-align: middle;\n",
       "    }\n",
       "\n",
       "    .dataframe tbody tr th {\n",
       "        vertical-align: top;\n",
       "    }\n",
       "\n",
       "    .dataframe thead th {\n",
       "        text-align: right;\n",
       "    }\n",
       "</style>\n",
       "<table border=\"1\" class=\"dataframe\">\n",
       "  <thead>\n",
       "    <tr style=\"text-align: right;\">\n",
       "      <th></th>\n",
       "      <th>age</th>\n",
       "    </tr>\n",
       "  </thead>\n",
       "  <tbody>\n",
       "    <tr>\n",
       "      <th>count</th>\n",
       "      <td>1046.00</td>\n",
       "    </tr>\n",
       "    <tr>\n",
       "      <th>mean</th>\n",
       "      <td>29.88</td>\n",
       "    </tr>\n",
       "    <tr>\n",
       "      <th>std</th>\n",
       "      <td>14.41</td>\n",
       "    </tr>\n",
       "    <tr>\n",
       "      <th>min</th>\n",
       "      <td>0.17</td>\n",
       "    </tr>\n",
       "    <tr>\n",
       "      <th>25%</th>\n",
       "      <td>21.00</td>\n",
       "    </tr>\n",
       "    <tr>\n",
       "      <th>50%</th>\n",
       "      <td>28.00</td>\n",
       "    </tr>\n",
       "    <tr>\n",
       "      <th>75%</th>\n",
       "      <td>39.00</td>\n",
       "    </tr>\n",
       "    <tr>\n",
       "      <th>max</th>\n",
       "      <td>80.00</td>\n",
       "    </tr>\n",
       "  </tbody>\n",
       "</table>\n",
       "</div>"
      ],
      "text/plain": [
       "           age\n",
       "count  1046.00\n",
       "mean     29.88\n",
       "std      14.41\n",
       "min       0.17\n",
       "25%      21.00\n",
       "50%      28.00\n",
       "75%      39.00\n",
       "max      80.00"
      ]
     },
     "execution_count": 82,
     "metadata": {},
     "output_type": "execute_result"
    }
   ],
   "source": [
    "titanic.describe()"
   ]
  },
  {
   "cell_type": "code",
   "execution_count": 83,
   "id": "7c46b8bf",
   "metadata": {},
   "outputs": [
    {
     "data": {
      "text/plain": [
       "count      1309\n",
       "unique        2\n",
       "top       False\n",
       "freq        809\n",
       "Name: survived, dtype: object"
      ]
     },
     "execution_count": 83,
     "metadata": {},
     "output_type": "execute_result"
    }
   ],
   "source": [
    "(titanic.survived == 'yes').describe()"
   ]
  },
  {
   "cell_type": "code",
   "execution_count": 84,
   "id": "7e82857e",
   "metadata": {},
   "outputs": [
    {
     "name": "stdout",
     "output_type": "stream",
     "text": [
      "Using matplotlib backend: <object object at 0x7fdd4967df80>\n"
     ]
    }
   ],
   "source": [
    "%matplotlib"
   ]
  },
  {
   "cell_type": "code",
   "execution_count": 85,
   "id": "eefd11e0",
   "metadata": {},
   "outputs": [],
   "source": [
    "histogram = titanic.hist()"
   ]
  },
  {
   "cell_type": "code",
   "execution_count": 86,
   "id": "66f2c9a0",
   "metadata": {},
   "outputs": [],
   "source": [
    "%matplotlib inline"
   ]
  },
  {
   "cell_type": "code",
   "execution_count": 87,
   "id": "096eea49",
   "metadata": {},
   "outputs": [
    {
     "data": {
      "image/png": "[encoded data removed]",
      "text/plain": [
       "<Figure size 432x288 with 1 Axes>"
      ]
     },
     "metadata": {
      "needs_background": "light"
     },
     "output_type": "display_data"
    }
   ],
   "source": [
    "histogram = titanic.hist()"
   ]
  },
  {
   "cell_type": "markdown",
   "id": "a393e751",
   "metadata": {},
   "source": [
    "John Hickman Module 6 Checkpoint #1 "
   ]
  },
  {
   "cell_type": "code",
   "execution_count": null,
   "id": "06658ee9",
   "metadata": {},
   "outputs": [],
   "source": []
  }
 ],
 "metadata": {
  "kernelspec": {
   "display_name": "Python 3 (ipykernel)",
   "language": "python",
   "name": "python3"
  },
  "language_info": {
   "codemirror_mode": {
    "name": "ipython",
    "version": 3
   },
   "file_extension": ".py",
   "mimetype": "text/x-python",
   "name": "python",
   "nbconvert_exporter": "python",
   "pygments_lexer": "ipython3",
   "version": "3.9.12"
  }
 },
 "nbformat": 4,
 "nbformat_minor": 5
}
